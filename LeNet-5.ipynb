{
 "cells": [
  {
   "cell_type": "code",
   "execution_count": 61,
   "metadata": {},
   "outputs": [],
   "source": [
    "# Import the required libraries and modules\n",
    "\n",
    "import torch\n",
    "import torch.nn as nn\n",
    "import torch.optim as optim\n",
    "from torch.utils.data import DataLoader\n",
    "from torchvision import datasets, transforms\n",
    "import random\n",
    "import matplotlib.pyplot as plt\n",
    "import matplotlib.cm as cm\n",
    "import torch.nn.utils.prune as prune\n",
    "from torch.nn.utils import weight_norm\n",
    "from pytorch_grad_cam import GradCAM\n",
    "from pytorch_grad_cam.utils.model_targets import ClassifierOutputTarget\n",
    "from pytorch_grad_cam.utils.image import show_cam_on_image\n",
    "from captum.attr import LayerGradCam, visualization as viz\n",
    "import numpy as np\n",
    "import cv2"
   ]
  },
  {
   "cell_type": "code",
   "execution_count": 62,
   "metadata": {},
   "outputs": [
    {
     "name": "stdout",
     "output_type": "stream",
     "text": [
      "\n",
      "Epoch 1/10, loss: 1.5454\n",
      "\n",
      "Epoch 2/10, loss: 1.4901\n",
      "\n",
      "Epoch 3/10, loss: 1.4832\n",
      "\n",
      "Epoch 4/10, loss: 1.4798\n",
      "\n",
      "Epoch 5/10, loss: 1.4774\n",
      "\n",
      "Epoch 6/10, loss: 1.4755\n",
      "\n",
      "Epoch 7/10, loss: 1.4744\n",
      "\n",
      "Epoch 8/10, loss: 1.4737\n",
      "\n",
      "Epoch 9/10, loss: 1.4737\n",
      "\n",
      "Epoch 10/10, loss: 1.4724\n",
      "\n",
      "Accuracy of the model : 98 %\n"
     ]
    }
   ],
   "source": [
    "# Define the image transformations and load the MNIST dataset\n",
    "\n",
    "# Image transformations for input data\n",
    "transform = transforms.Compose([\n",
    "    transforms.ToTensor(),\n",
    "    transforms.Normalize((0.1307,), (0.3081,))\n",
    "])\n",
    "\n",
    "# Load MNIST dataset\n",
    "train_dataset = datasets.MNIST('data', train=True, download=True, transform=transform)\n",
    "test_dataset = datasets.MNIST('data', train=False, download=True, transform=transform)\n",
    "\n",
    "# Define data loaders\n",
    "train_loader = DataLoader(train_dataset, batch_size=64, shuffle=True)\n",
    "test_loader = DataLoader(test_dataset, batch_size=64, shuffle=False)\n",
    "\n",
    "\n",
    "# Define the architecture of the LeNet-5 model\n",
    "class Net(nn.Module):\n",
    "    def __init__(self):\n",
    "        super(Net, self).__init__()\n",
    "        self.conv1 = nn.Conv2d(1, 32, kernel_size=3)\n",
    "        self.pool = nn.AvgPool2d(kernel_size=2)\n",
    "        self.conv2 = nn.Conv2d(32, 64, kernel_size=3)\n",
    "        self.fc1 = nn.Linear(64 * 5 * 5, 128)\n",
    "        self.fc2 = nn.Linear(128, 10)\n",
    "\n",
    "    def forward(self, x):\n",
    "        x = self.pool(torch.tanh(self.conv1(x)))\n",
    "        x = self.pool(torch.tanh(self.conv2(x)))\n",
    "        x = x.view(-1, 64 * 5 * 5)\n",
    "        x = torch.tanh(self.fc1(x))\n",
    "        x = torch.softmax(self.fc2(x), dim=1)\n",
    "        return x\n",
    "\n",
    "model = Net()\n",
    "\n",
    "# Define the optimizer, criterion, and move the model to the CPU device\n",
    "criterion = nn.CrossEntropyLoss()\n",
    "optimizer = optim.Adam(model.parameters(), lr=0.001)\n",
    "\n",
    "device = torch.device(\"cpu\")\n",
    "model.to(device)\n",
    "\n",
    "# Train the model for a certain number of epochs:\n",
    "\n",
    "epochs = 10\n",
    "\n",
    "for epoch in range(epochs):\n",
    "    running_loss = 0.0\n",
    "# Iterate over training data and perform forward and backward pass\n",
    "    for i, data in enumerate(train_loader, 0):\n",
    "        inputs, labels = data[0].to(device), data[1].to(device)\n",
    "        optimizer.zero_grad()\n",
    "        outputs = model(inputs)\n",
    "        loss = criterion(outputs, labels)\n",
    "        loss.backward()\n",
    "        optimizer.step()\n",
    "        running_loss += loss.item()\n",
    "# Prints average loss for each epoch\n",
    "    epoch_loss = running_loss / len(train_loader)\n",
    "    print(f\"\\nEpoch {epoch+1}/{epochs}, loss: {epoch_loss:.4f}\")\n",
    "\n",
    "# Evaluate the accuracy of the model on the test data   \n",
    "correct = 0\n",
    "total = 0\n",
    "with torch.no_grad():\n",
    "    for data in test_loader:\n",
    "        images, labels = data[0].to(device), data[1].to(device)\n",
    "        outputs = model(images)\n",
    "        _, predicted = torch.max(outputs.data, 1)\n",
    "        total += labels.size(0)\n",
    "        correct += (predicted == labels).sum().item()\n",
    "\n",
    "print('\\nAccuracy of the model : %d %%' % (100 * correct / total))\n",
    "\n",
    "# # Check if the model is pruned\n",
    "# is_pruned = prune.is_pruned(model)\n",
    "# print(\"\\nIs Pruned:\", is_pruned)"
   ]
  },
  {
   "cell_type": "code",
   "execution_count": 63,
   "metadata": {},
   "outputs": [
    {
     "name": "stdout",
     "output_type": "stream",
     "text": [
      "Predicted Label: 5\n",
      "\n",
      "Image:\n"
     ]
    },
    {
     "data": {
      "image/png": "[encoded data removed]",
      "text/plain": [
       "<Figure size 432x288 with 1 Axes>"
      ]
     },
     "metadata": {
      "needs_background": "light"
     },
     "output_type": "display_data"
    },
    {
     "name": "stdout",
     "output_type": "stream",
     "text": [
      "Image with GradCAM:\n"
     ]
    },
    {
     "data": {
      "image/png": "[encoded data removed]",
      "text/plain": [
       "<Figure size 288x288 with 1 Axes>"
      ]
     },
     "metadata": {
      "needs_background": "light"
     },
     "output_type": "display_data"
    },
    {
     "name": "stdout",
     "output_type": "stream",
     "text": [
      "Combined Image:\n"
     ]
    },
    {
     "data": {
      "image/png": "[encoded data removed]",
      "text/plain": [
       "<Figure size 432x288 with 1 Axes>"
      ]
     },
     "metadata": {
      "needs_background": "light"
     },
     "output_type": "display_data"
    }
   ],
   "source": [
    "# Set the model to evaluation mode and choose a random image from the test dataset to display\n",
    "model.eval()\n",
    "\n",
    "with torch.no_grad():\n",
    "    test_index = random.randint(0, len(test_dataset)-1)\n",
    "    test_image, test_label = test_dataset[test_index]\n",
    "    test_output = model(test_image.unsqueeze(0))\n",
    "    _, predicted = torch.max(test_output.data, 1)\n",
    "    print('Predicted Label:', predicted.item())\n",
    "    print('\\nImage:')\n",
    "    plt.imshow(test_image.squeeze(), cmap='gray')\n",
    "    plt.show()\n",
    "\n",
    "# Apply GradCAM visualization to the chosen image\n",
    "layers = list(model.modules())\n",
    "image, label = test_image.unsqueeze(0), torch.tensor([predicted.item()])\n",
    "algorithm = LayerGradCam(model, layer=layers[1])\n",
    "feature_imp_img = algorithm.attribute(image, target=label)\n",
    "# print(feature_imp_img.shape)\n",
    "_, _, h, w = feature_imp_img.shape\n",
    "\n",
    "# Display the GradCAM heat map\n",
    "orig_image = np.transpose(test_image.numpy(), (1,2,0))\n",
    "print('Image with GradCAM:')\n",
    "plt.matshow(feature_imp_img.detach().numpy().reshape(h,w,1), interpolation ='none')\n",
    "plt.show()   \n",
    "\n",
    "print('Combined Image:')\n",
    "# Load and display the first image\n",
    "image1 = test_image.squeeze()\n",
    "plt.imshow(image1, alpha=0.5, cmap='gray')\n",
    "plt.axis('on')\n",
    "\n",
    "# Load and display the second image with transparency\n",
    "image2 = feature_imp_img.detach().numpy().reshape(h, w, 1)\n",
    "plt.imshow(image2, alpha=0.5, interpolation='none')\n",
    "\n",
    "# Show the combined image\n",
    "plt.show()"
   ]
  },
  {
   "cell_type": "code",
   "execution_count": 64,
   "metadata": {},
   "outputs": [
    {
     "name": "stdout",
     "output_type": "stream",
     "text": [
      "\n",
      "Epoch 1/10, Loss: 1.5176\n",
      "\n",
      "Epoch 2/10, Loss: 1.4871\n",
      "\n",
      "Epoch 3/10, Loss: 1.4802\n",
      "\n",
      "Epoch 4/10, Loss: 1.4773\n",
      "\n",
      "Epoch 5/10, Loss: 1.4756\n",
      "\n",
      "Epoch 6/10, Loss: 1.4745\n",
      "\n",
      "Epoch 7/10, Loss: 1.4737\n",
      "\n",
      "Epoch 8/10, Loss: 1.4730\n",
      "\n",
      "Epoch 9/10, Loss: 1.4724\n",
      "\n",
      "Epoch 10/10, Loss: 1.4719\n",
      "\n",
      "Accuracy of the pruned model: 98.55%\n",
      "\n",
      "Is Pruned: True\n"
     ]
    }
   ],
   "source": [
    "# Specify the layers to prune\n",
    "layers_to_prune = [model.conv1, model.conv2, model.fc1, model.fc2]\n",
    "\n",
    "# Prune each layer individually\n",
    "for layer in layers_to_prune:\n",
    "    prune.ln_structured(module=layer, name='weight', amount=0.3, n=1, dim=1) # 0=row & 1=column\n",
    "    \n",
    "# Reinitialize the optimizer and criterion, and set the model to training mode    \n",
    "optimizer = torch.optim.Adam(model.parameters(), lr=0.00001)\n",
    "criterion = torch.nn.CrossEntropyLoss()\n",
    "\n",
    "model.train()\n",
    "\n",
    "# Fine-tune the pruned model for a certain number of epochs\n",
    "epochs = 10  \n",
    "for epoch in range(epochs):\n",
    "    running_loss = 0.0\n",
    "    \n",
    "    for inputs, labels in train_loader:\n",
    "        inputs = inputs.to(device)\n",
    "        labels = labels.to(device)\n",
    "        \n",
    "        optimizer.zero_grad()\n",
    "        \n",
    "        # Forward pass\n",
    "        outputs = model(inputs)\n",
    "        loss = criterion(outputs, labels)\n",
    "        \n",
    "        # Backward pass and optimization\n",
    "        loss.backward()\n",
    "        optimizer.step()\n",
    "        \n",
    "        running_loss += loss.item()\n",
    "    \n",
    "    # Calculate average loss for the epoch\n",
    "    epoch_loss = running_loss / len(train_loader)\n",
    "    print(f\"\\nEpoch {epoch+1}/{epochs}, Loss: {epoch_loss:.4f}\")\n",
    "\n",
    "# Evaluate the accuracy of the pruned and fine-tuned model on the test data    \n",
    "model.eval()\n",
    "\n",
    "correct = 0\n",
    "total = 0\n",
    "\n",
    "model.eval()\n",
    "with torch.no_grad():\n",
    "    test_image = test_image.unsqueeze(0)\n",
    "    output = model(test_image)\n",
    "    _, predicted = torch.max(output, 1)\n",
    "\n",
    "with torch.no_grad():\n",
    "    for inputs, labels in test_loader:\n",
    "        inputs = inputs.to(device)\n",
    "        labels = labels.to(device)\n",
    "        \n",
    "        # Forward pass\n",
    "        outputs = model(inputs)\n",
    "        _, predicted = torch.max(outputs.data, 1)\n",
    "        \n",
    "        total += labels.size(0)\n",
    "        correct += (predicted == labels).sum().item()\n",
    "        \n",
    "# for layer in layers_to_prune:\n",
    "#     mask = getattr(layer, 'weight_mask', None)\n",
    "#     if mask is not None:\n",
    "#         sparsity = 1.0 - mask.float().mean()\n",
    "#         sparsity_percentage = sparsity.item() * 100\n",
    "#         print(f\"Sparsity of {layer.__class__.__name__}: {sparsity_percentage:.2f}\")\n",
    "\n",
    "accuracy = 100 * correct / total\n",
    "print(f\"\\nAccuracy of the pruned model: {accuracy:.2f}%\")\n",
    "\n",
    "# Check if the model is pruned after the fine-tuning\n",
    "is_pruned = prune.is_pruned(model)\n",
    "print(\"\\nIs Pruned:\", is_pruned)"
   ]
  },
  {
   "cell_type": "code",
   "execution_count": 65,
   "metadata": {},
   "outputs": [
    {
     "name": "stdout",
     "output_type": "stream",
     "text": [
      "Predicted Label: 5\n",
      "\n",
      "Pruned Image:\n"
     ]
    },
    {
     "data": {
      "image/png": "[encoded data removed]",
      "text/plain": [
       "<Figure size 432x288 with 1 Axes>"
      ]
     },
     "metadata": {
      "needs_background": "light"
     },
     "output_type": "display_data"
    },
    {
     "name": "stdout",
     "output_type": "stream",
     "text": [
      "Pruned Image with GradCAM:\n"
     ]
    },
    {
     "data": {
      "image/png": "[encoded data removed]",
      "text/plain": [
       "<Figure size 288x288 with 1 Axes>"
      ]
     },
     "metadata": {
      "needs_background": "light"
     },
     "output_type": "display_data"
    },
    {
     "name": "stdout",
     "output_type": "stream",
     "text": [
      "Combined Image:\n"
     ]
    },
    {
     "data": {
      "image/png": "[encoded data removed]",
      "text/plain": [
       "<Figure size 432x288 with 1 Axes>"
      ]
     },
     "metadata": {
      "needs_background": "light"
     },
     "output_type": "display_data"
    }
   ],
   "source": [
    "# Display the original image after pruning and apply GradCAM visualization to it\n",
    "with torch.no_grad():\n",
    "    test_index = random.randint(0, len(test_dataset)-1)\n",
    "    test_image, test_label = test_dataset[test_index]\n",
    "    test_output = model(test_image.unsqueeze(0))\n",
    "    _, predicted = torch.max(test_output.data, 1)\n",
    "    print('Predicted Label:', predicted.item())\n",
    "    print('\\nPruned Image:')\n",
    "    plt.imshow(test_image.squeeze(), cmap='gray')\n",
    "    plt.show()\n",
    "\n",
    "# Apply GradCAM visualization to the same image\n",
    "layers = list(model.modules())\n",
    "image, label = test_image.unsqueeze(0), torch.tensor([predicted.item()])\n",
    "algorithm = LayerGradCam(model, layer=layers[1])\n",
    "feature_imp_img = algorithm.attribute(image, target=label)\n",
    "_, _, h, w = feature_imp_img.shape\n",
    "\n",
    "# Display the GradCAM heat map\n",
    "orig_image = np.transpose(test_image.numpy(), (1, 2, 0))\n",
    "print('Pruned Image with GradCAM:')\n",
    "plt.matshow(feature_imp_img.detach().numpy().reshape(h, w, 1), interpolation='none')\n",
    "plt.show()\n",
    "\n",
    "\n",
    "print('Combined Image:')\n",
    "# Load and display the first image\n",
    "image1 = test_image.squeeze()\n",
    "plt.imshow(image1, alpha=0.5, cmap='gray')\n",
    "plt.axis('off')\n",
    "\n",
    "# Load and display the second image with transparency\n",
    "image2 = feature_imp_img.detach().numpy().reshape(h, w, 1)\n",
    "plt.imshow(image2, alpha=0.5, interpolation='none')\n",
    "\n",
    "# Show the combined image\n",
    "plt.show()"
   ]
  },
  {
   "cell_type": "code",
   "execution_count": null,
   "metadata": {},
   "outputs": [],
   "source": [
    "\n"
   ]
  },
  {
   "cell_type": "code",
   "execution_count": null,
   "metadata": {},
   "outputs": [],
   "source": []
  }
 ],
 "metadata": {
  "kernelspec": {
   "display_name": "Python 3",
   "language": "python",
   "name": "python3"
  },
  "language_info": {
   "codemirror_mode": {
    "name": "ipython",
    "version": 3
   },
   "file_extension": ".py",
   "mimetype": "text/x-python",
   "name": "python",
   "nbconvert_exporter": "python",
   "pygments_lexer": "ipython3",
   "version": "3.7.6"
  }
 },
 "nbformat": 4,
 "nbformat_minor": 4
}
