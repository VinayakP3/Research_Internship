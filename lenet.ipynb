{
 "cells": [
  {
   "cell_type": "code",
   "execution_count": 1,
   "metadata": {},
   "outputs": [],
   "source": [
    "# Import the required libraries and modules\n",
    "import torch\n",
    "import torch.nn as nn\n",
    "import torch.optim as optim\n",
    "from torch.utils.data import DataLoader\n",
    "from torchvision import datasets, transforms\n",
    "import random\n",
    "import matplotlib.pyplot as plt\n",
    "import matplotlib.cm as cm\n",
    "import torch.nn.utils.prune as prune\n",
    "from torch.nn.utils import weight_norm\n",
    "from pytorch_grad_cam import GradCAM\n",
    "from pytorch_grad_cam.utils.model_targets import ClassifierOutputTarget\n",
    "from pytorch_grad_cam.utils.image import show_cam_on_image\n",
    "from captum.attr import LayerGradCam, visualization as viz\n",
    "import numpy as np\n",
    "import cv2\n",
    "import torch.nn.functional as F"
   ]
  },
  {
   "cell_type": "code",
   "execution_count": 2,
   "metadata": {},
   "outputs": [
    {
     "name": "stdout",
     "output_type": "stream",
     "text": [
      "\n",
      "Epoch 1/5, loss: 1.5386\n",
      "\n",
      "Epoch 2/5, loss: 1.4882\n",
      "\n",
      "Epoch 3/5, loss: 1.4816\n",
      "\n",
      "Epoch 4/5, loss: 1.4787\n",
      "\n",
      "Epoch 5/5, loss: 1.4762\n",
      "\n",
      "Accuracy of the model : 98 %\n"
     ]
    }
   ],
   "source": [
    "# Define the image transformations and load the MNIST dataset\n",
    "\n",
    "# Image transformations for input data\n",
    "transform = transforms.Compose([\n",
    "    transforms.ToTensor(),\n",
    "    transforms.Normalize((0.1307,), (0.3081,))\n",
    "])\n",
    "\n",
    "# Load MNIST dataset\n",
    "train_dataset = datasets.MNIST('data', train=True, download=True, transform=transform)\n",
    "test_dataset = datasets.MNIST('data', train=False, download=True, transform=transform)\n",
    "\n",
    "# Define data loaders\n",
    "train_loader = DataLoader(train_dataset, batch_size=64, shuffle=True)\n",
    "test_loader = DataLoader(test_dataset, batch_size=64, shuffle=False)\n",
    "\n",
    "\n",
    "# Define the architecture of the LeNet-5 model\n",
    "class Net(nn.Module):\n",
    "    def __init__(self):\n",
    "        super(Net, self).__init__()\n",
    "        self.conv1 = nn.Conv2d(1, 32, kernel_size=3)\n",
    "        self.pool = nn.AvgPool2d(kernel_size=2)\n",
    "        self.conv2 = nn.Conv2d(32, 64, kernel_size=3, bias = False)\n",
    "        self.fc1 = nn.Linear(64 * 5 * 5, 256, bias = False)\n",
    "        self.fc2 = nn.Linear(256, 10)\n",
    "\n",
    "    def forward(self, x):\n",
    "        x = self.pool(torch.tanh(self.conv1(x)))\n",
    "        x = self.pool(torch.tanh(self.conv2(x)))\n",
    "        x = x.view(-1, 64 * 5 * 5)\n",
    "        x = torch.tanh(self.fc1(x))\n",
    "        x = torch.softmax(self.fc2(x), dim=1)\n",
    "        return x\n",
    "\n",
    "model = Net()\n",
    "\n",
    "\n",
    "# Define the optimizer, criterion, and move the model to the CPU device\n",
    "criterion = nn.CrossEntropyLoss()\n",
    "optimizer = optim.Adam(model.parameters(), lr=0.001)\n",
    "\n",
    "device = torch.device(\"cpu\")\n",
    "model.to(device)\n",
    "\n",
    "# Train the model for a certain number of epochs:\n",
    "\n",
    "epochs = 5\n",
    "\n",
    "for epoch in range(epochs):\n",
    "    running_loss = 0.0\n",
    "# Iterate over training data and perform forward and backward pass\n",
    "    for i, data in enumerate(train_loader, 0):\n",
    "        inputs, labels = data[0].to(device), data[1].to(device)\n",
    "        optimizer.zero_grad()\n",
    "        outputs = model(inputs)\n",
    "        loss = criterion(outputs, labels)\n",
    "        loss.backward()\n",
    "        optimizer.step()\n",
    "        running_loss += loss.item()\n",
    "# Prints average loss for each epoch\n",
    "    epoch_loss = running_loss / len(train_loader)\n",
    "    print(f\"\\nEpoch {epoch+1}/{epochs}, loss: {epoch_loss:.4f}\")\n",
    "\n",
    "# Evaluate the accuracy of the model on the test data   \n",
    "correct = 0\n",
    "total = 0\n",
    "with torch.no_grad():\n",
    "    for data in test_loader:\n",
    "        images, labels = data[0].to(device), data[1].to(device)\n",
    "        outputs = model(images)\n",
    "        _, predicted = torch.max(outputs.data, 1)\n",
    "        total += labels.size(0)\n",
    "        correct += (predicted == labels).sum().item()\n",
    "\n",
    "print('\\nAccuracy of the model : %d %%' % (100 * correct / total))\n",
    "\n",
    "# # Check if the model is pruned\n",
    "# is_pruned = prune.is_pruned(model)\n",
    "# print(\"\\nIs Pruned:\", is_pruned)"
   ]
  },
  {
   "cell_type": "code",
   "execution_count": 3,
   "metadata": {},
   "outputs": [
    {
     "name": "stdout",
     "output_type": "stream",
     "text": [
      "Predicted Label: 6\n"
     ]
    },
    {
     "data": {
      "image/png": "[encoded data removed]",
      "text/plain": [
       "<Figure size 432x288 with 1 Axes>"
      ]
     },
     "metadata": {
      "needs_background": "light"
     },
     "output_type": "display_data"
    },
    {
     "data": {
      "image/png": "[encoded data removed]",
      "text/plain": [
       "<Figure size 288x288 with 1 Axes>"
      ]
     },
     "metadata": {
      "needs_background": "light"
     },
     "output_type": "display_data"
    },
    {
     "data": {
      "image/png": "[encoded data removed]",
      "text/plain": [
       "<Figure size 432x288 with 1 Axes>"
      ]
     },
     "metadata": {
      "needs_background": "light"
     },
     "output_type": "display_data"
    }
   ],
   "source": [
    "# Set the model to evaluation mode and choose a random image from the test dataset to display\n",
    "model.eval()\n",
    "\n",
    "with torch.no_grad():\n",
    "    test_index = random.randint(0, len(test_dataset)-1)\n",
    "    test_image, test_label = test_dataset[test_index]\n",
    "    test_output = model(test_image.unsqueeze(0))\n",
    "    _, predicted = torch.max(test_output.data, 1)\n",
    "    print('Predicted Label:', predicted.item())\n",
    "    plt.imshow(test_image.squeeze(), cmap='gray')\n",
    "    plt.title(\"Image:\")\n",
    "    plt.axis('off')\n",
    "    plt.show()\n",
    "\n",
    "# Apply GradCAM visualization to the chosen image\n",
    "layers = list(model.modules())\n",
    "image, label = test_image.unsqueeze(0), torch.tensor([predicted.item()])\n",
    "algorithm = LayerGradCam(model, layer=layers[1])\n",
    "feature_imp_img = algorithm.attribute(image, target=label)\n",
    "# print(feature_imp_img.shape)\n",
    "_, _, h, w = feature_imp_img.shape\n",
    "\n",
    "# Display the GradCAM heat map\n",
    "orig_image = np.transpose(test_image.numpy(), (1,2,0))\n",
    "plt.matshow(feature_imp_img.detach().numpy().reshape(h,w,1), interpolation ='none')\n",
    "plt.title(\"Image with GradCAM:\")\n",
    "plt.axis('off')\n",
    "plt.show()   \n",
    "\n",
    "# Load and display the first image\n",
    "image1 = test_image.squeeze()\n",
    "plt.imshow(image1, alpha=0.5, cmap='gray')\n",
    "plt.axis('off')\n",
    "\n",
    "# Load and display the second image with transparency\n",
    "image2 = feature_imp_img.detach().numpy().reshape(h, w, 1)\n",
    "plt.imshow(image2, alpha=0.5, interpolation='none')\n",
    "plt.axis('off')\n",
    "plt.title(\"Combined Image:\")\n",
    "# Show the combined image\n",
    "plt.show()"
   ]
  },
  {
   "cell_type": "markdown",
   "metadata": {},
   "source": [
    "# Before Pruning"
   ]
  },
  {
   "cell_type": "code",
   "execution_count": 4,
   "metadata": {},
   "outputs": [
    {
     "data": {
      "text/plain": [
       "Net(\n",
       "  (conv1): Conv2d(1, 32, kernel_size=(3, 3), stride=(1, 1))\n",
       "  (pool): AvgPool2d(kernel_size=2, stride=2, padding=0)\n",
       "  (conv2): Conv2d(32, 64, kernel_size=(3, 3), stride=(1, 1), bias=False)\n",
       "  (fc1): Linear(in_features=1600, out_features=256, bias=False)\n",
       "  (fc2): Linear(in_features=256, out_features=10, bias=True)\n",
       ")"
      ]
     },
     "execution_count": 4,
     "metadata": {},
     "output_type": "execute_result"
    }
   ],
   "source": [
    "model"
   ]
  },
  {
   "cell_type": "code",
   "execution_count": 5,
   "metadata": {},
   "outputs": [
    {
     "data": {
      "text/plain": [
       "Parameter containing:\n",
       "tensor([[[[-1.2161e-01, -9.5599e-02, -1.0634e-01],\n",
       "          [-2.1376e-01, -6.2543e-02, -1.1852e-01],\n",
       "          [-1.4549e-01, -1.1080e-01, -7.1998e-02]],\n",
       "\n",
       "         [[ 1.2266e-01, -5.7364e-02,  1.6230e-01],\n",
       "          [ 3.3845e-02, -4.0630e-02,  4.0689e-01],\n",
       "          [-2.5490e-02, -7.7232e-02,  2.3847e-01]],\n",
       "\n",
       "         [[-8.1182e-02, -1.6486e-01, -1.9646e-01],\n",
       "          [-1.8828e-01, -1.6621e-01, -2.6314e-02],\n",
       "          [-1.3480e-01, -2.6447e-01, -1.2439e-01]],\n",
       "\n",
       "         ...,\n",
       "\n",
       "         [[ 3.9299e-02, -1.2652e-02, -2.6270e-02],\n",
       "          [ 1.0291e-01, -1.2956e-01,  1.9468e-01],\n",
       "          [ 1.4042e-01, -1.9362e-01,  1.0670e-01]],\n",
       "\n",
       "         [[-7.3863e-02, -1.0974e-01,  3.1391e-02],\n",
       "          [ 3.3861e-02, -3.7610e-02,  2.4318e-01],\n",
       "          [ 5.6849e-02,  8.0029e-03,  4.7032e-02]],\n",
       "\n",
       "         [[ 1.4335e-01,  1.9831e-01,  1.8049e-01],\n",
       "          [ 2.3784e-01,  1.7904e-01,  1.4817e-01],\n",
       "          [ 1.4609e-01,  1.6619e-01,  7.4922e-02]]],\n",
       "\n",
       "\n",
       "        [[[-2.2966e-02,  2.5299e-02, -7.2023e-02],\n",
       "          [-1.9144e-02, -1.3218e-02, -1.3850e-01],\n",
       "          [-1.5177e-02, -9.0727e-02, -1.0212e-02]],\n",
       "\n",
       "         [[-7.2303e-02,  1.9185e-01,  7.9223e-02],\n",
       "          [-7.2985e-03,  1.8306e-01,  2.0050e-02],\n",
       "          [ 1.5388e-01,  5.5930e-02, -1.8059e-01]],\n",
       "\n",
       "         [[-5.9114e-02, -2.4186e-03,  5.8952e-02],\n",
       "          [ 9.4095e-03,  5.3736e-02, -5.5402e-02],\n",
       "          [ 6.7323e-02,  1.5192e-01,  4.2608e-03]],\n",
       "\n",
       "         ...,\n",
       "\n",
       "         [[-2.0789e-02, -8.8679e-02,  1.2225e-02],\n",
       "          [-9.1114e-02,  7.7151e-02, -3.6753e-02],\n",
       "          [ 1.1309e-01,  7.3714e-02, -3.4579e-02]],\n",
       "\n",
       "         [[-1.2133e-01,  1.4456e-01,  5.5369e-02],\n",
       "          [ 1.3993e-01,  1.0028e-01, -8.7177e-02],\n",
       "          [ 2.2629e-01, -1.5952e-03, -6.2688e-02]],\n",
       "\n",
       "         [[ 1.0010e-01,  6.1157e-02, -3.0295e-02],\n",
       "          [ 4.2806e-02,  2.2315e-02,  6.3237e-02],\n",
       "          [ 1.4494e-02, -6.6310e-02,  2.1490e-02]]],\n",
       "\n",
       "\n",
       "        [[[-8.5655e-02, -7.8495e-02, -9.3403e-02],\n",
       "          [ 1.1741e-01,  1.7702e-01,  1.2970e-01],\n",
       "          [ 5.7145e-02, -1.8585e-02, -4.2791e-02]],\n",
       "\n",
       "         [[-3.5800e-02,  5.6337e-02, -5.0722e-02],\n",
       "          [ 3.3386e-02,  1.1069e-01,  2.2171e-01],\n",
       "          [ 1.3150e-01, -2.5119e-02,  2.1304e-02]],\n",
       "\n",
       "         [[-3.4922e-02, -2.7720e-02, -2.8985e-02],\n",
       "          [-5.6309e-02, -1.3958e-01,  3.5112e-03],\n",
       "          [ 6.7000e-02,  6.4216e-02,  5.1861e-02]],\n",
       "\n",
       "         ...,\n",
       "\n",
       "         [[-2.0160e-02, -4.9945e-03, -4.1493e-02],\n",
       "          [-1.9843e-01, -1.3856e-01, -2.3919e-03],\n",
       "          [ 4.4479e-02, -3.3506e-02, -1.1484e-01]],\n",
       "\n",
       "         [[ 2.9571e-02, -2.5540e-02, -2.9680e-02],\n",
       "          [ 1.6058e-01,  1.6348e-01,  1.0848e-01],\n",
       "          [-4.5179e-02, -1.2587e-01, -8.1807e-03]],\n",
       "\n",
       "         [[-7.3620e-02, -1.0829e-01, -4.0579e-02],\n",
       "          [ 6.5874e-02,  5.9467e-02,  2.3008e-02],\n",
       "          [-1.0146e-01, -6.0961e-02, -1.0390e-01]]],\n",
       "\n",
       "\n",
       "        ...,\n",
       "\n",
       "\n",
       "        [[[-2.9883e-02, -6.2162e-02, -1.3254e-01],\n",
       "          [ 5.6397e-02,  2.7281e-03,  1.8401e-01],\n",
       "          [ 8.7389e-02, -4.2486e-02,  1.9913e-02]],\n",
       "\n",
       "         [[-6.8695e-02, -1.4033e-01,  1.3338e-02],\n",
       "          [-1.5606e-01,  4.4789e-02,  2.9320e-02],\n",
       "          [ 8.8441e-02,  2.2494e-01, -1.7486e-04]],\n",
       "\n",
       "         [[ 6.2418e-02,  3.3836e-02,  6.8260e-02],\n",
       "          [-2.3785e-02,  4.6483e-02,  6.0547e-02],\n",
       "          [ 6.2697e-02,  6.1773e-02,  2.4338e-02]],\n",
       "\n",
       "         ...,\n",
       "\n",
       "         [[ 9.4539e-02,  2.6171e-02,  1.8091e-01],\n",
       "          [-7.1080e-02, -7.3160e-02, -5.3549e-02],\n",
       "          [ 1.3899e-02,  5.9378e-02, -1.1020e-02]],\n",
       "\n",
       "         [[-3.9216e-02, -7.0200e-02,  4.4363e-03],\n",
       "          [-1.6520e-02,  1.3001e-01,  1.8018e-01],\n",
       "          [ 1.7313e-01,  1.5727e-01,  5.9240e-02]],\n",
       "\n",
       "         [[-3.9531e-02, -4.1832e-02, -1.0588e-02],\n",
       "          [ 4.5415e-02,  3.2037e-02,  5.2855e-02],\n",
       "          [-7.2437e-02,  3.3133e-02,  8.0811e-03]]],\n",
       "\n",
       "\n",
       "        [[[-1.5781e-02, -3.0015e-02, -6.9112e-02],\n",
       "          [ 6.4692e-02,  1.1061e-01,  6.7438e-03],\n",
       "          [-4.1996e-02, -1.1709e-01, -1.1469e-01]],\n",
       "\n",
       "         [[-1.6003e-01, -1.3869e-01, -5.3577e-03],\n",
       "          [-1.7911e-01, -2.3108e-02,  7.9154e-02],\n",
       "          [-1.5060e-01, -5.0778e-02, -9.5585e-03]],\n",
       "\n",
       "         [[-1.7313e-02, -1.3270e-01, -3.3730e-02],\n",
       "          [-4.5955e-02, -5.1809e-02,  1.0076e-03],\n",
       "          [ 4.3269e-02,  4.5447e-03, -2.4132e-02]],\n",
       "\n",
       "         ...,\n",
       "\n",
       "         [[ 1.6196e-01,  8.3192e-02,  1.1849e-01],\n",
       "          [ 6.2696e-02,  1.0423e-01, -6.0134e-03],\n",
       "          [ 5.8709e-02,  1.2697e-01,  2.4136e-01]],\n",
       "\n",
       "         [[-1.2713e-01, -6.5467e-02, -3.8594e-02],\n",
       "          [-1.4127e-01,  3.1159e-02,  6.7905e-02],\n",
       "          [-1.6917e-01, -3.0689e-03, -1.3325e-01]],\n",
       "\n",
       "         [[ 1.5255e-02,  6.6369e-02,  7.9306e-02],\n",
       "          [ 6.1424e-02,  6.3786e-02,  6.1746e-02],\n",
       "          [ 1.0010e-03,  7.9215e-02, -1.1882e-02]]],\n",
       "\n",
       "\n",
       "        [[[-5.2810e-02, -8.4414e-02, -1.4429e-01],\n",
       "          [ 4.6879e-03,  6.2746e-02,  1.2369e-01],\n",
       "          [ 1.1098e-01,  8.7951e-02,  1.4888e-01]],\n",
       "\n",
       "         [[-2.4101e-02, -9.8261e-02, -7.0105e-03],\n",
       "          [-2.3436e-01,  3.9548e-02, -3.3686e-02],\n",
       "          [ 2.8177e-02,  1.2544e-01,  5.4049e-02]],\n",
       "\n",
       "         [[ 1.7558e-01,  5.1154e-02,  9.7416e-02],\n",
       "          [-3.4404e-02, -7.1716e-02, -5.8324e-02],\n",
       "          [ 6.0474e-02,  3.9990e-02, -3.3118e-02]],\n",
       "\n",
       "         ...,\n",
       "\n",
       "         [[ 1.7619e-01,  4.4251e-03,  5.9639e-02],\n",
       "          [-1.0437e-01, -9.3974e-02,  8.7310e-03],\n",
       "          [ 1.1113e-02,  1.2040e-01, -8.4731e-02]],\n",
       "\n",
       "         [[ 1.6382e-02, -9.4705e-02, -1.0104e-01],\n",
       "          [-8.3987e-03,  1.1209e-01, -1.4387e-02],\n",
       "          [ 1.4415e-01,  1.5494e-01,  1.0191e-01]],\n",
       "\n",
       "         [[-8.5004e-02, -5.3738e-02, -5.3315e-02],\n",
       "          [-2.4724e-02,  5.7505e-02,  2.5172e-02],\n",
       "          [-5.8693e-04,  6.8729e-03,  9.2998e-02]]]], requires_grad=True)"
      ]
     },
     "execution_count": 5,
     "metadata": {},
     "output_type": "execute_result"
    }
   ],
   "source": [
    "model.conv2.weight"
   ]
  },
  {
   "cell_type": "code",
   "execution_count": 6,
   "metadata": {},
   "outputs": [
    {
     "data": {
      "text/plain": [
       "Parameter containing:\n",
       "tensor([[-0.0283, -0.0852, -0.0076,  ...,  0.0660,  0.0923,  0.0937],\n",
       "        [ 0.0218, -0.0359, -0.1097,  ..., -0.0005, -0.0636,  0.0168],\n",
       "        [-0.1104,  0.0134, -0.0373,  ..., -0.0326,  0.0565,  0.0704],\n",
       "        ...,\n",
       "        [ 0.0203,  0.0265,  0.0399,  ..., -0.0551, -0.0077,  0.0095],\n",
       "        [-0.0470,  0.0175,  0.1524,  ...,  0.0543, -0.0169, -0.0671],\n",
       "        [ 0.0644, -0.0133, -0.0491,  ..., -0.0012,  0.0234, -0.0228]],\n",
       "       requires_grad=True)"
      ]
     },
     "execution_count": 6,
     "metadata": {},
     "output_type": "execute_result"
    }
   ],
   "source": [
    "model.fc1.weight"
   ]
  },
  {
   "cell_type": "code",
   "execution_count": 7,
   "metadata": {},
   "outputs": [],
   "source": [
    "# model.conv2.bias"
   ]
  },
  {
   "cell_type": "code",
   "execution_count": 8,
   "metadata": {},
   "outputs": [],
   "source": [
    "# model.fc1.bias"
   ]
  },
  {
   "cell_type": "markdown",
   "metadata": {},
   "source": [
    "# Structured pruning"
   ]
  },
  {
   "cell_type": "code",
   "execution_count": 9,
   "metadata": {
    "scrolled": true
   },
   "outputs": [
    {
     "name": "stdout",
     "output_type": "stream",
     "text": [
      "\n",
      "Epoch 1/3, Loss: 1.4817\n",
      "\n",
      "Epoch 2/3, Loss: 1.4723\n",
      "\n",
      "Epoch 3/3, Loss: 1.4708\n",
      "\n",
      "Accuracy of the pruned model: 98.73%\n",
      "\n",
      "Is Pruned: True\n"
     ]
    }
   ],
   "source": [
    "# Specify the layers to prune\n",
    "layers_to_prune = [model.conv2, model.fc1]\n",
    "\n",
    "# Prune each layer individually\n",
    "for layer in layers_to_prune:\n",
    "    prune.ln_structured(module=layer, name='weight', amount=0.5, n=1, dim=1) # 0=row & 1=column\n",
    "\n",
    "# Remove zeros from the pruned weights\n",
    "for layer in layers_to_prune:\n",
    "    mask = getattr(layer, \"weight_mask\", None)\n",
    "    if mask is not None:\n",
    "        layer.weight.data *= mask  # Set zero weights to zero\n",
    "\n",
    "# Reinitialize the optimizer and criterion, and set the model to training mode\n",
    "optimizer = torch.optim.Adam(model.parameters(), lr=0.001)\n",
    "criterion = torch.nn.CrossEntropyLoss()\n",
    "\n",
    "model.train()\n",
    "\n",
    "# Fine-tune the pruned model for a certain number of epochs\n",
    "epochs = 3\n",
    "for epoch in range(epochs):\n",
    "    running_loss = 0.0\n",
    "\n",
    "    for inputs, labels in train_loader:\n",
    "        inputs = inputs.to(device)\n",
    "        labels = labels.to(device)\n",
    "\n",
    "        optimizer.zero_grad()\n",
    "\n",
    "        # Forward pass\n",
    "        outputs = model(inputs)\n",
    "        loss = criterion(outputs, labels)\n",
    "\n",
    "        # Backward pass and optimization\n",
    "        loss.backward()\n",
    "        optimizer.step()\n",
    "\n",
    "        running_loss += loss.item()\n",
    "\n",
    "    # Calculate average loss for the epoch\n",
    "    epoch_loss = running_loss / len(train_loader)\n",
    "    print(f\"\\nEpoch {epoch + 1}/{epochs}, Loss: {epoch_loss:.4f}\")\n",
    "\n",
    "# Remove zeros from the pruned weights\n",
    "for layer in layers_to_prune:\n",
    "    mask = getattr(layer, \"weight_mask\", None)\n",
    "    if mask is not None:\n",
    "        layer.weight.data *= mask  # Set zero weights to zero\n",
    "\n",
    "correct = 0\n",
    "total = 0\n",
    "\n",
    "model.eval()\n",
    "with torch.no_grad():\n",
    "    test_image = test_image.unsqueeze(0)\n",
    "    output = model(test_image)\n",
    "    _, predicted = torch.max(output, 1)\n",
    "\n",
    "with torch.no_grad():\n",
    "    for inputs, labels in test_loader:\n",
    "        inputs = inputs.to(device)\n",
    "        labels = labels.to(device)\n",
    "\n",
    "        # Forward pass\n",
    "        outputs = model(inputs)\n",
    "        _, predicted = torch.max(outputs.data, 1)\n",
    "\n",
    "        total += labels.size(0)\n",
    "        correct += (predicted == labels).sum().item()\n",
    "\n",
    "accuracy = 100 * correct / total\n",
    "print(f\"\\nAccuracy of the pruned model: {accuracy:.2f}%\")\n",
    "\n",
    "# Check if the model is pruned after the fine-tuning\n",
    "is_pruned = prune.is_pruned(model)\n",
    "print(\"\\nIs Pruned:\", is_pruned)\n"
   ]
  },
  {
   "cell_type": "markdown",
   "metadata": {},
   "source": [
    "# After Pruning"
   ]
  },
  {
   "cell_type": "code",
   "execution_count": 10,
   "metadata": {},
   "outputs": [
    {
     "data": {
      "text/plain": [
       "tensor([[[[-0.1044, -0.0688, -0.0832],\n",
       "          [-0.2145, -0.0420, -0.0835],\n",
       "          [-0.1400, -0.0921, -0.0617]],\n",
       "\n",
       "         [[ 0.1956,  0.0693,  0.2892],\n",
       "          [ 0.1194,  0.1104,  0.5149],\n",
       "          [ 0.0798,  0.0619,  0.3241]],\n",
       "\n",
       "         [[-0.0000, -0.0000, -0.0000],\n",
       "          [-0.0000, -0.0000, -0.0000],\n",
       "          [-0.0000, -0.0000, -0.0000]],\n",
       "\n",
       "         ...,\n",
       "\n",
       "         [[-0.0017, -0.0453, -0.0663],\n",
       "          [ 0.0511, -0.1748,  0.1236],\n",
       "          [ 0.0952, -0.2043,  0.0950]],\n",
       "\n",
       "         [[-0.0000, -0.0000,  0.0000],\n",
       "          [ 0.0000, -0.0000,  0.0000],\n",
       "          [ 0.0000,  0.0000,  0.0000]],\n",
       "\n",
       "         [[ 0.0000,  0.0000,  0.0000],\n",
       "          [ 0.0000,  0.0000,  0.0000],\n",
       "          [ 0.0000,  0.0000,  0.0000]]],\n",
       "\n",
       "\n",
       "        [[[-0.0059,  0.1182, -0.0259],\n",
       "          [-0.0624, -0.0126, -0.1365],\n",
       "          [-0.0082, -0.1165,  0.0141]],\n",
       "\n",
       "         [[-0.0790,  0.2747,  0.1378],\n",
       "          [ 0.0158,  0.2163,  0.0719],\n",
       "          [ 0.2201,  0.0623, -0.1575]],\n",
       "\n",
       "         [[-0.0000, -0.0000,  0.0000],\n",
       "          [ 0.0000,  0.0000, -0.0000],\n",
       "          [ 0.0000,  0.0000,  0.0000]],\n",
       "\n",
       "         ...,\n",
       "\n",
       "         [[-0.0959, -0.1340,  0.0197],\n",
       "          [-0.1356,  0.0840, -0.0363],\n",
       "          [ 0.1316,  0.0229,  0.0059]],\n",
       "\n",
       "         [[-0.0000,  0.0000,  0.0000],\n",
       "          [ 0.0000,  0.0000, -0.0000],\n",
       "          [ 0.0000, -0.0000, -0.0000]],\n",
       "\n",
       "         [[ 0.0000,  0.0000, -0.0000],\n",
       "          [ 0.0000,  0.0000,  0.0000],\n",
       "          [ 0.0000, -0.0000,  0.0000]]],\n",
       "\n",
       "\n",
       "        [[[-0.1401, -0.1566, -0.1691],\n",
       "          [ 0.1221,  0.2068,  0.1519],\n",
       "          [ 0.0386, -0.0373, -0.0519]],\n",
       "\n",
       "         [[-0.0466,  0.0041, -0.1435],\n",
       "          [ 0.0164,  0.0648,  0.1821],\n",
       "          [ 0.1079, -0.0332, -0.0064]],\n",
       "\n",
       "         [[-0.0000, -0.0000, -0.0000],\n",
       "          [-0.0000, -0.0000,  0.0000],\n",
       "          [ 0.0000,  0.0000,  0.0000]],\n",
       "\n",
       "         ...,\n",
       "\n",
       "         [[ 0.0159,  0.0397, -0.0384],\n",
       "          [-0.2117, -0.1709,  0.0272],\n",
       "          [ 0.0560, -0.0034, -0.1122]],\n",
       "\n",
       "         [[ 0.0000, -0.0000, -0.0000],\n",
       "          [ 0.0000,  0.0000,  0.0000],\n",
       "          [-0.0000, -0.0000, -0.0000]],\n",
       "\n",
       "         [[-0.0000, -0.0000, -0.0000],\n",
       "          [ 0.0000,  0.0000,  0.0000],\n",
       "          [-0.0000, -0.0000, -0.0000]]],\n",
       "\n",
       "\n",
       "        ...,\n",
       "\n",
       "\n",
       "        [[[-0.0370, -0.0474, -0.1224],\n",
       "          [ 0.0534, -0.0206,  0.1959],\n",
       "          [ 0.1084, -0.0327,  0.0029]],\n",
       "\n",
       "         [[-0.0567, -0.1113,  0.0681],\n",
       "          [-0.1240,  0.0913,  0.0856],\n",
       "          [ 0.1287,  0.2739,  0.0460]],\n",
       "\n",
       "         [[ 0.0000,  0.0000,  0.0000],\n",
       "          [-0.0000,  0.0000,  0.0000],\n",
       "          [ 0.0000,  0.0000,  0.0000]],\n",
       "\n",
       "         ...,\n",
       "\n",
       "         [[ 0.0926,  0.0135,  0.2255],\n",
       "          [-0.1016, -0.1276, -0.0570],\n",
       "          [-0.0216,  0.0536, -0.0284]],\n",
       "\n",
       "         [[-0.0000, -0.0000,  0.0000],\n",
       "          [-0.0000,  0.0000,  0.0000],\n",
       "          [ 0.0000,  0.0000,  0.0000]],\n",
       "\n",
       "         [[-0.0000, -0.0000, -0.0000],\n",
       "          [ 0.0000,  0.0000,  0.0000],\n",
       "          [-0.0000,  0.0000,  0.0000]]],\n",
       "\n",
       "\n",
       "        [[[-0.0328, -0.0474, -0.0649],\n",
       "          [ 0.0390,  0.1308,  0.0393],\n",
       "          [-0.0517, -0.0930, -0.0922]],\n",
       "\n",
       "         [[-0.1035, -0.0847,  0.0333],\n",
       "          [-0.1889,  0.0264,  0.1325],\n",
       "          [-0.1203, -0.0266,  0.0640]],\n",
       "\n",
       "         [[-0.0000, -0.0000, -0.0000],\n",
       "          [-0.0000, -0.0000,  0.0000],\n",
       "          [ 0.0000,  0.0000, -0.0000]],\n",
       "\n",
       "         ...,\n",
       "\n",
       "         [[ 0.2200,  0.0872,  0.1030],\n",
       "          [ 0.0220,  0.0966, -0.0455],\n",
       "          [ 0.0216,  0.1067,  0.2595]],\n",
       "\n",
       "         [[-0.0000, -0.0000, -0.0000],\n",
       "          [-0.0000,  0.0000,  0.0000],\n",
       "          [-0.0000, -0.0000, -0.0000]],\n",
       "\n",
       "         [[ 0.0000,  0.0000,  0.0000],\n",
       "          [ 0.0000,  0.0000,  0.0000],\n",
       "          [ 0.0000,  0.0000, -0.0000]]],\n",
       "\n",
       "\n",
       "        [[[-0.0676, -0.0984, -0.1642],\n",
       "          [ 0.0300,  0.0697,  0.1514],\n",
       "          [ 0.1400,  0.1206,  0.1557]],\n",
       "\n",
       "         [[-0.0568, -0.1538, -0.0340],\n",
       "          [-0.2405,  0.0602, -0.0437],\n",
       "          [ 0.0726,  0.1686,  0.0685]],\n",
       "\n",
       "         [[ 0.0000,  0.0000,  0.0000],\n",
       "          [-0.0000, -0.0000, -0.0000],\n",
       "          [ 0.0000,  0.0000, -0.0000]],\n",
       "\n",
       "         ...,\n",
       "\n",
       "         [[ 0.1576, -0.0229,  0.1016],\n",
       "          [-0.1877, -0.1303, -0.0150],\n",
       "          [-0.0355,  0.1388, -0.1298]],\n",
       "\n",
       "         [[ 0.0000, -0.0000, -0.0000],\n",
       "          [-0.0000,  0.0000, -0.0000],\n",
       "          [ 0.0000,  0.0000,  0.0000]],\n",
       "\n",
       "         [[-0.0000, -0.0000, -0.0000],\n",
       "          [-0.0000,  0.0000,  0.0000],\n",
       "          [-0.0000,  0.0000,  0.0000]]]])"
      ]
     },
     "execution_count": 10,
     "metadata": {},
     "output_type": "execute_result"
    }
   ],
   "source": [
    "model.conv2.weight"
   ]
  },
  {
   "cell_type": "code",
   "execution_count": 11,
   "metadata": {},
   "outputs": [
    {
     "data": {
      "text/plain": [
       "tensor([[-0.0000, -0.0000, -0.0735,  ...,  0.0000,  0.0000,  0.0000],\n",
       "        [ 0.0000, -0.0000, -0.1432,  ..., -0.0000, -0.0000,  0.0000],\n",
       "        [-0.0000,  0.0000, -0.1159,  ..., -0.0000,  0.0000,  0.0000],\n",
       "        ...,\n",
       "        [ 0.0000,  0.0000,  0.0490,  ..., -0.0000, -0.0000,  0.0000],\n",
       "        [-0.0000,  0.0000,  0.2030,  ...,  0.0000, -0.0000, -0.0000],\n",
       "        [ 0.0000, -0.0000, -0.0767,  ..., -0.0000,  0.0000, -0.0000]])"
      ]
     },
     "execution_count": 11,
     "metadata": {},
     "output_type": "execute_result"
    }
   ],
   "source": [
    "model.fc1.weight"
   ]
  },
  {
   "cell_type": "code",
   "execution_count": 12,
   "metadata": {},
   "outputs": [],
   "source": [
    "# model.conv2.bias"
   ]
  },
  {
   "cell_type": "code",
   "execution_count": 13,
   "metadata": {},
   "outputs": [],
   "source": [
    "# model.fc1.bias"
   ]
  },
  {
   "cell_type": "code",
   "execution_count": 14,
   "metadata": {},
   "outputs": [
    {
     "data": {
      "text/plain": [
       "Net(\n",
       "  (conv1): Conv2d(1, 32, kernel_size=(3, 3), stride=(1, 1))\n",
       "  (pool): AvgPool2d(kernel_size=2, stride=2, padding=0)\n",
       "  (conv2): Conv2d(32, 64, kernel_size=(3, 3), stride=(1, 1), bias=False)\n",
       "  (fc1): Linear(in_features=1600, out_features=256, bias=False)\n",
       "  (fc2): Linear(in_features=256, out_features=10, bias=True)\n",
       ")"
      ]
     },
     "execution_count": 14,
     "metadata": {},
     "output_type": "execute_result"
    }
   ],
   "source": [
    "model"
   ]
  },
  {
   "cell_type": "markdown",
   "metadata": {},
   "source": [
    "# Removing Channels of the pruned layers"
   ]
  },
  {
   "cell_type": "code",
   "execution_count": 15,
   "metadata": {},
   "outputs": [],
   "source": [
    "# Remove zero channels from conv2\n",
    "weights = model.conv2.weight.data\n",
    "mask = torch.sum(weights, dim=(1, 2, 3)) != 0\n",
    "pruned_weights = weights[mask]\n",
    "\n",
    "# Reduce the number of channels\n",
    "pruned_channels = pruned_weights.size(0) // 2\n",
    "pruned_weights = pruned_weights[:pruned_channels]\n",
    "\n",
    "# Update conv2 with the pruned weights and reduced number of channels\n",
    "model.conv2 = nn.Conv2d(pruned_weights.size(1), pruned_weights.size(0), kernel_size=4)\n",
    "#model.conv2.weight = nn.Parameter(pruned_weights)"
   ]
  },
  {
   "cell_type": "code",
   "execution_count": 16,
   "metadata": {},
   "outputs": [],
   "source": [
    "# Remove zero channels from fc1\n",
    "weights = model.fc1.weight.data\n",
    "mask = torch.sum(weights, dim=0) != 0\n",
    "pruned_weights = weights[:, mask]\n",
    "\n",
    "# Update fc1 with the pruned weights\n",
    "model.fc1 = nn.Linear(pruned_weights.size(1), pruned_weights.size(0), bias=True)\n",
    "model.fc1.weight = nn.Parameter(pruned_weights)"
   ]
  },
  {
   "cell_type": "code",
   "execution_count": 17,
   "metadata": {},
   "outputs": [
    {
     "data": {
      "text/plain": [
       "Parameter containing:\n",
       "tensor([[[[-0.0059, -0.0297,  0.0326,  0.0415],\n",
       "          [ 0.0065, -0.0292,  0.0112, -0.0194],\n",
       "          [-0.0157,  0.0399, -0.0185, -0.0394],\n",
       "          [ 0.0320, -0.0420,  0.0381, -0.0159]],\n",
       "\n",
       "         [[ 0.0231, -0.0084,  0.0425, -0.0257],\n",
       "          [-0.0397, -0.0308,  0.0173, -0.0028],\n",
       "          [ 0.0344,  0.0316,  0.0067, -0.0092],\n",
       "          [-0.0261,  0.0027, -0.0142,  0.0070]],\n",
       "\n",
       "         [[-0.0186,  0.0203,  0.0252,  0.0407],\n",
       "          [ 0.0334,  0.0179, -0.0177, -0.0197],\n",
       "          [ 0.0354, -0.0257, -0.0070, -0.0208],\n",
       "          [ 0.0438, -0.0312,  0.0108,  0.0287]],\n",
       "\n",
       "         ...,\n",
       "\n",
       "         [[ 0.0085, -0.0107,  0.0275, -0.0003],\n",
       "          [-0.0216,  0.0291, -0.0358, -0.0138],\n",
       "          [-0.0045, -0.0046,  0.0301,  0.0404],\n",
       "          [ 0.0371, -0.0082, -0.0191, -0.0184]],\n",
       "\n",
       "         [[-0.0404, -0.0277, -0.0184,  0.0318],\n",
       "          [ 0.0408,  0.0062,  0.0228,  0.0356],\n",
       "          [ 0.0348, -0.0047,  0.0008, -0.0300],\n",
       "          [ 0.0395,  0.0114, -0.0039,  0.0426]],\n",
       "\n",
       "         [[-0.0429,  0.0420, -0.0223, -0.0394],\n",
       "          [-0.0250, -0.0011,  0.0239, -0.0395],\n",
       "          [-0.0080, -0.0208,  0.0404,  0.0295],\n",
       "          [-0.0439, -0.0269,  0.0113,  0.0039]]],\n",
       "\n",
       "\n",
       "        [[[ 0.0167, -0.0024,  0.0426, -0.0002],\n",
       "          [ 0.0108,  0.0329,  0.0350, -0.0234],\n",
       "          [-0.0171,  0.0049, -0.0010,  0.0124],\n",
       "          [-0.0303,  0.0213,  0.0039,  0.0011]],\n",
       "\n",
       "         [[ 0.0188,  0.0351, -0.0162,  0.0403],\n",
       "          [ 0.0351,  0.0074, -0.0331, -0.0136],\n",
       "          [-0.0419, -0.0309, -0.0022,  0.0362],\n",
       "          [-0.0361, -0.0361,  0.0207, -0.0229]],\n",
       "\n",
       "         [[-0.0100,  0.0196, -0.0200,  0.0094],\n",
       "          [-0.0306, -0.0085, -0.0378,  0.0107],\n",
       "          [-0.0012, -0.0279, -0.0100,  0.0253],\n",
       "          [ 0.0186,  0.0395, -0.0107, -0.0425]],\n",
       "\n",
       "         ...,\n",
       "\n",
       "         [[ 0.0309,  0.0277,  0.0195, -0.0148],\n",
       "          [-0.0070,  0.0278,  0.0113,  0.0372],\n",
       "          [-0.0091,  0.0263, -0.0292, -0.0384],\n",
       "          [ 0.0034, -0.0090, -0.0422, -0.0310]],\n",
       "\n",
       "         [[ 0.0264,  0.0178,  0.0345, -0.0195],\n",
       "          [ 0.0333,  0.0334, -0.0118,  0.0393],\n",
       "          [-0.0133,  0.0355,  0.0117,  0.0350],\n",
       "          [-0.0170,  0.0040,  0.0299, -0.0072]],\n",
       "\n",
       "         [[ 0.0007,  0.0140, -0.0429, -0.0019],\n",
       "          [-0.0413,  0.0007, -0.0418,  0.0204],\n",
       "          [-0.0374, -0.0245,  0.0267, -0.0145],\n",
       "          [ 0.0160,  0.0291,  0.0421,  0.0415]]],\n",
       "\n",
       "\n",
       "        [[[-0.0364,  0.0010,  0.0243, -0.0394],\n",
       "          [ 0.0335,  0.0147,  0.0399, -0.0065],\n",
       "          [-0.0040, -0.0385,  0.0217, -0.0260],\n",
       "          [-0.0111,  0.0299, -0.0298,  0.0195]],\n",
       "\n",
       "         [[ 0.0042,  0.0058,  0.0427, -0.0078],\n",
       "          [ 0.0362, -0.0344, -0.0344, -0.0081],\n",
       "          [-0.0017, -0.0027, -0.0127,  0.0269],\n",
       "          [-0.0361,  0.0201,  0.0011, -0.0206]],\n",
       "\n",
       "         [[-0.0275,  0.0331,  0.0383, -0.0371],\n",
       "          [ 0.0334, -0.0011, -0.0356,  0.0376],\n",
       "          [ 0.0356,  0.0277,  0.0014, -0.0127],\n",
       "          [ 0.0239, -0.0253, -0.0054,  0.0137]],\n",
       "\n",
       "         ...,\n",
       "\n",
       "         [[ 0.0421, -0.0382,  0.0140,  0.0107],\n",
       "          [ 0.0363,  0.0281,  0.0275, -0.0041],\n",
       "          [ 0.0420,  0.0248, -0.0301,  0.0379],\n",
       "          [-0.0417,  0.0289,  0.0378,  0.0015]],\n",
       "\n",
       "         [[-0.0129, -0.0332,  0.0218,  0.0115],\n",
       "          [-0.0294, -0.0165,  0.0190,  0.0021],\n",
       "          [-0.0355,  0.0363, -0.0307, -0.0425],\n",
       "          [-0.0233,  0.0099, -0.0413,  0.0245]],\n",
       "\n",
       "         [[-0.0354,  0.0302, -0.0410, -0.0028],\n",
       "          [-0.0054, -0.0364, -0.0214, -0.0009],\n",
       "          [-0.0327, -0.0075,  0.0145,  0.0196],\n",
       "          [ 0.0411, -0.0119,  0.0086, -0.0125]]],\n",
       "\n",
       "\n",
       "        ...,\n",
       "\n",
       "\n",
       "        [[[ 0.0283, -0.0005,  0.0171, -0.0104],\n",
       "          [ 0.0397,  0.0442, -0.0032,  0.0252],\n",
       "          [-0.0085, -0.0038,  0.0279,  0.0301],\n",
       "          [ 0.0040,  0.0342, -0.0320, -0.0178]],\n",
       "\n",
       "         [[-0.0329, -0.0165, -0.0042, -0.0108],\n",
       "          [-0.0323,  0.0023, -0.0328, -0.0256],\n",
       "          [-0.0233, -0.0187,  0.0219, -0.0420],\n",
       "          [-0.0041,  0.0332,  0.0164, -0.0380]],\n",
       "\n",
       "         [[ 0.0070,  0.0288, -0.0167,  0.0003],\n",
       "          [ 0.0253,  0.0088,  0.0236,  0.0146],\n",
       "          [-0.0367, -0.0245,  0.0105, -0.0200],\n",
       "          [ 0.0026,  0.0020, -0.0194, -0.0359]],\n",
       "\n",
       "         ...,\n",
       "\n",
       "         [[-0.0435,  0.0149,  0.0008, -0.0275],\n",
       "          [-0.0139,  0.0090,  0.0204, -0.0185],\n",
       "          [ 0.0107, -0.0167,  0.0177,  0.0169],\n",
       "          [ 0.0256,  0.0398,  0.0385,  0.0271]],\n",
       "\n",
       "         [[ 0.0389, -0.0325, -0.0142,  0.0017],\n",
       "          [ 0.0390,  0.0250, -0.0118,  0.0255],\n",
       "          [-0.0119, -0.0261, -0.0191, -0.0158],\n",
       "          [-0.0162,  0.0386,  0.0220,  0.0119]],\n",
       "\n",
       "         [[ 0.0282,  0.0108,  0.0407,  0.0261],\n",
       "          [ 0.0263,  0.0232,  0.0039,  0.0002],\n",
       "          [-0.0423, -0.0115, -0.0420, -0.0130],\n",
       "          [-0.0380, -0.0190,  0.0380,  0.0379]]],\n",
       "\n",
       "\n",
       "        [[[-0.0187,  0.0350, -0.0398,  0.0378],\n",
       "          [-0.0249, -0.0344, -0.0171,  0.0389],\n",
       "          [ 0.0400,  0.0409, -0.0207,  0.0096],\n",
       "          [-0.0410, -0.0203, -0.0165,  0.0243]],\n",
       "\n",
       "         [[-0.0374, -0.0262, -0.0205,  0.0441],\n",
       "          [-0.0420,  0.0361, -0.0059,  0.0206],\n",
       "          [-0.0183, -0.0372,  0.0049,  0.0203],\n",
       "          [-0.0350,  0.0367,  0.0132,  0.0261]],\n",
       "\n",
       "         [[-0.0223,  0.0420,  0.0165, -0.0364],\n",
       "          [-0.0130,  0.0173, -0.0249, -0.0172],\n",
       "          [ 0.0258,  0.0268, -0.0013,  0.0299],\n",
       "          [-0.0153,  0.0022, -0.0079,  0.0121]],\n",
       "\n",
       "         ...,\n",
       "\n",
       "         [[ 0.0055,  0.0421, -0.0182, -0.0040],\n",
       "          [ 0.0275, -0.0014,  0.0027, -0.0394],\n",
       "          [-0.0314,  0.0207, -0.0219,  0.0378],\n",
       "          [ 0.0282,  0.0326,  0.0303,  0.0345]],\n",
       "\n",
       "         [[-0.0124,  0.0402,  0.0009,  0.0277],\n",
       "          [ 0.0176, -0.0189, -0.0331, -0.0061],\n",
       "          [-0.0208, -0.0187, -0.0036, -0.0143],\n",
       "          [ 0.0414, -0.0016,  0.0272, -0.0301]],\n",
       "\n",
       "         [[ 0.0319, -0.0371,  0.0021, -0.0096],\n",
       "          [-0.0095,  0.0141, -0.0218,  0.0083],\n",
       "          [-0.0134,  0.0172, -0.0157, -0.0385],\n",
       "          [-0.0002,  0.0362,  0.0311, -0.0183]]],\n",
       "\n",
       "\n",
       "        [[[ 0.0181,  0.0293, -0.0051,  0.0060],\n",
       "          [ 0.0190, -0.0192, -0.0093, -0.0196],\n",
       "          [ 0.0260, -0.0284,  0.0015,  0.0246],\n",
       "          [ 0.0300,  0.0340,  0.0229, -0.0335]],\n",
       "\n",
       "         [[-0.0406,  0.0273,  0.0078, -0.0413],\n",
       "          [ 0.0118,  0.0360, -0.0182,  0.0385],\n",
       "          [-0.0184, -0.0293, -0.0061,  0.0279],\n",
       "          [-0.0205,  0.0279, -0.0249,  0.0130]],\n",
       "\n",
       "         [[-0.0144,  0.0184, -0.0270,  0.0018],\n",
       "          [ 0.0147, -0.0422,  0.0252,  0.0102],\n",
       "          [ 0.0050, -0.0138,  0.0304,  0.0098],\n",
       "          [-0.0272,  0.0266,  0.0432, -0.0406]],\n",
       "\n",
       "         ...,\n",
       "\n",
       "         [[ 0.0096,  0.0003,  0.0022, -0.0054],\n",
       "          [-0.0009,  0.0179, -0.0088,  0.0202],\n",
       "          [ 0.0438,  0.0316,  0.0137,  0.0278],\n",
       "          [-0.0314,  0.0258,  0.0101, -0.0180]],\n",
       "\n",
       "         [[ 0.0189, -0.0306,  0.0140, -0.0101],\n",
       "          [-0.0292,  0.0004, -0.0390, -0.0043],\n",
       "          [ 0.0245,  0.0279, -0.0348, -0.0404],\n",
       "          [-0.0130, -0.0242, -0.0011,  0.0230]],\n",
       "\n",
       "         [[-0.0177,  0.0282, -0.0234,  0.0359],\n",
       "          [ 0.0288,  0.0283,  0.0136,  0.0211],\n",
       "          [-0.0131, -0.0198,  0.0097,  0.0183],\n",
       "          [-0.0024, -0.0334,  0.0210,  0.0051]]]], requires_grad=True)"
      ]
     },
     "execution_count": 17,
     "metadata": {},
     "output_type": "execute_result"
    }
   ],
   "source": [
    "model.conv2.weight"
   ]
  },
  {
   "cell_type": "code",
   "execution_count": 18,
   "metadata": {},
   "outputs": [
    {
     "data": {
      "text/plain": [
       "Parameter containing:\n",
       "tensor([[-0.0735, -0.0025, -0.0673,  ...,  0.1248,  0.1575,  0.1843],\n",
       "        [-0.1432, -0.1670, -0.0710,  ..., -0.0078, -0.0896, -0.0753],\n",
       "        [-0.1159, -0.0165, -0.0363,  ...,  0.0479,  0.1107,  0.0342],\n",
       "        ...,\n",
       "        [ 0.0490,  0.1176, -0.0670,  ..., -0.1090,  0.0336, -0.0501],\n",
       "        [ 0.2030,  0.1651,  0.0245,  ..., -0.0048,  0.0383, -0.0161],\n",
       "        [-0.0767, -0.0021,  0.0263,  ..., -0.0792,  0.0371, -0.0467]],\n",
       "       requires_grad=True)"
      ]
     },
     "execution_count": 18,
     "metadata": {},
     "output_type": "execute_result"
    }
   ],
   "source": [
    "model.fc1.weight"
   ]
  },
  {
   "cell_type": "code",
   "execution_count": 19,
   "metadata": {},
   "outputs": [
    {
     "data": {
      "text/plain": [
       "Net(\n",
       "  (conv1): Conv2d(1, 32, kernel_size=(3, 3), stride=(1, 1))\n",
       "  (pool): AvgPool2d(kernel_size=2, stride=2, padding=0)\n",
       "  (conv2): Conv2d(32, 32, kernel_size=(4, 4), stride=(1, 1))\n",
       "  (fc1): Linear(in_features=800, out_features=256, bias=True)\n",
       "  (fc2): Linear(in_features=256, out_features=10, bias=True)\n",
       ")"
      ]
     },
     "execution_count": 19,
     "metadata": {},
     "output_type": "execute_result"
    }
   ],
   "source": [
    "model"
   ]
  },
  {
   "cell_type": "code",
   "execution_count": 21,
   "metadata": {},
   "outputs": [],
   "source": [
    "def forward(self, x):\n",
    "    x = self.pool(torch.tanh(self.model.conv1(x).size))\n",
    "    x = self.pool(torch.tanh(self.model.conv2(x).size))\n",
    "    num_remaining_channels = x.size(1)\n",
    "    x = x.view(-1, num_remaining_channels * 5 * 5)  # Update the view operation\n",
    "    x = torch.tanh(self.model.fc1(x))\n",
    "    x = torch.softmax(self.model.fc2(x), dim=1)\n",
    "    \n",
    "model = Net()"
   ]
  },
  {
   "cell_type": "code",
   "execution_count": 29,
   "metadata": {},
   "outputs": [],
   "source": [
    "# model"
   ]
  },
  {
   "cell_type": "code",
   "execution_count": 23,
   "metadata": {},
   "outputs": [],
   "source": [
    "def find_argmax(image):\n",
    "    # Threshold the image\n",
    "    threshold = 0.5  # Adjust the threshold as needed\n",
    "    binary_image = (image > threshold).float()\n",
    "\n",
    "    # Find the argmax\n",
    "    argmax = torch.argmax(binary_image.view(-1))\n",
    "    return argmax.item()\n",
    "\n",
    "def plot_bbox(image, bbox, color='red', lw=2):\n",
    "    ymin, xmin, ymax, xmax = bbox\n",
    "    plt.gca().add_patch(plt.Rectangle((xmin, ymin), xmax - xmin, ymax - ymin, fill=False, edgecolor=color, linewidth=lw))"
   ]
  },
  {
   "cell_type": "code",
   "execution_count": 28,
   "metadata": {},
   "outputs": [
    {
     "name": "stdout",
     "output_type": "stream",
     "text": [
      "Predicted Label: 4\n"
     ]
    },
    {
     "data": {
      "image/png": "[encoded data removed]",
      "text/plain": [
       "<Figure size 432x288 with 1 Axes>"
      ]
     },
     "metadata": {
      "needs_background": "light"
     },
     "output_type": "display_data"
    },
    {
     "data": {
      "image/png": "[encoded data removed]",
      "text/plain": [
       "<Figure size 288x288 with 1 Axes>"
      ]
     },
     "metadata": {
      "needs_background": "light"
     },
     "output_type": "display_data"
    },
    {
     "data": {
      "image/png": "[encoded data removed]",
      "text/plain": [
       "<Figure size 432x288 with 1 Axes>"
      ]
     },
     "metadata": {
      "needs_background": "light"
     },
     "output_type": "display_data"
    },
    {
     "data": {
      "image/png": "[encoded data removed]",
      "text/plain": [
       "<Figure size 432x288 with 1 Axes>"
      ]
     },
     "metadata": {
      "needs_background": "light"
     },
     "output_type": "display_data"
    },
    {
     "data": {
      "image/png": "[encoded data removed]",
      "text/plain": [
       "<Figure size 432x288 with 1 Axes>"
      ]
     },
     "metadata": {
      "needs_background": "light"
     },
     "output_type": "display_data"
    },
    {
     "data": {
      "image/png": "[encoded data removed]",
      "text/plain": [
       "<Figure size 288x288 with 2 Axes>"
      ]
     },
     "metadata": {
      "needs_background": "light"
     },
     "output_type": "display_data"
    }
   ],
   "source": [
    "with torch.no_grad():\n",
    "    test_index = random.randint(0, len(test_dataset)-1)\n",
    "    test_image, test_label = test_dataset[test_index]\n",
    "    test_output = model(test_image.unsqueeze(0))\n",
    "    _, predicted = torch.max(test_output.data, 1)\n",
    "    print('Predicted Label:', predicted.item())\n",
    "    plt.imshow(test_image.squeeze(), cmap='gray')\n",
    "    plt.title(\"Pruned Image:\")\n",
    "    plt.axis('off')\n",
    "    plt.show()\n",
    "    \n",
    "    # Applys GradCAM visualization to the same image\n",
    "    layers = list(model.modules())\n",
    "    image, label = test_image.unsqueeze(0), torch.tensor([predicted.item()])\n",
    "    algorithm = LayerGradCam(model, layer=layers[1])\n",
    "    feature_imp_img = algorithm.attribute(image, target=label)\n",
    "    _, _, h, w = feature_imp_img.shape\n",
    "\n",
    "    # Computes bounding box coordinates based on the GradCAM heatmap\n",
    "    heatmap_np = feature_imp_img.detach().numpy().reshape(h, w)\n",
    "    threshold = 0.5  # Set a threshold to decide the bounding box\n",
    "    nonzero_indices = np.nonzero(heatmap_np > threshold)\n",
    "    \n",
    "    if nonzero_indices[0].size > 0 and nonzero_indices[1].size > 0:\n",
    "        ymin = np.min(nonzero_indices[0])\n",
    "        ymax = np.max(nonzero_indices[0])\n",
    "        xmin = np.min(nonzero_indices[1])\n",
    "        xmax = np.max(nonzero_indices[1])\n",
    "    else:\n",
    "        ymin, ymax, xmin, xmax = 5, 25, 25, 5\n",
    "\n",
    "    # Find the argmax for the \"white\" part\n",
    "    white_argmax = find_argmax(test_image.squeeze())\n",
    "\n",
    "    # Displays the GradCAM heat map\n",
    "    orig_image = test_image.squeeze().numpy()\n",
    "    plt.matshow(feature_imp_img.detach().numpy().reshape(h, w), interpolation='none')\n",
    "    plt.title(\"Pruned Image with GradCAM:\")\n",
    "    plt.axis('off')\n",
    "    plt.show()\n",
    "\n",
    "    # Displays the original image with the argmax point and bounding box\n",
    "    plt.imshow(orig_image, cmap='gray')\n",
    "    plt.scatter(white_argmax % 28, white_argmax // 28, marker='x', color='red', s=100)\n",
    "    plot_bbox(orig_image, (ymin, xmin, ymax, xmax), color='red', lw=2)\n",
    "    plt.title(\"Pruned Image with argmax and bounding box:\")\n",
    "    plt.axis('off')\n",
    "    plt.show()\n",
    "\n",
    "    # Displays the combined image with transparency and bounding box\n",
    "    plt.imshow(orig_image, cmap='gray')\n",
    "    plt.imshow(feature_imp_img.detach().numpy().reshape(h, w), cmap='jet', alpha=0.5, interpolation='none')\n",
    "    plt.scatter(white_argmax % 28, white_argmax // 28, marker='x', color='red', s=100)\n",
    "    plot_bbox(orig_image, (ymin, xmin, ymax, xmax), color='red', lw=2)\n",
    "    plt.title(\"Combined Image:\")\n",
    "    plt.axis('off')\n",
    "    plt.show()\n",
    "\n",
    "    # Displays the binary image and its heatmap of 0's and 1's\n",
    "    binary_image = (orig_image > threshold).astype(int)\n",
    "    plt.imshow(binary_image, cmap='gray')\n",
    "    plt.title(\"Binary Image:\")\n",
    "    plt.axis('off')\n",
    "    plt.show()\n",
    "\n",
    "    # Creates a heat map of 0's and 1's for the binary image\n",
    "    plt.matshow(binary_image, cmap='binary', interpolation='none')\n",
    "    plt.title(\"Heatmap of Binary Image:\")\n",
    "    plt.colorbar()\n",
    "    plt.show()\n"
   ]
  }
 ],
 "metadata": {
  "kernelspec": {
   "display_name": "Python 3",
   "language": "python",
   "name": "python3"
  },
  "language_info": {
   "codemirror_mode": {
    "name": "ipython",
    "version": 3
   },
   "file_extension": ".py",
   "mimetype": "text/x-python",
   "name": "python",
   "nbconvert_exporter": "python",
   "pygments_lexer": "ipython3",
   "version": "3.7.6"
  }
 },
 "nbformat": 4,
 "nbformat_minor": 4
}
